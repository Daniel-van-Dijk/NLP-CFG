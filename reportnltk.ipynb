{
 "cells": [
  {
   "cell_type": "code",
   "execution_count": 40,
   "metadata": {},
   "outputs": [
    {
     "data": {
      "text/html": [
       "<script>\n",
       "code_show=true; \n",
       "function code_toggle() {\n",
       " if (code_show){\n",
       " $('div.input').hide();\n",
       " } else {\n",
       " $('div.input').show();\n",
       " }\n",
       " code_show = !code_show\n",
       "} \n",
       "$( document ).ready(code_toggle);\n",
       "</script>\n",
       "Code is hidden\n",
       "to view code, click <a href=\"javascript:code_toggle()\">here</a>."
      ],
      "text/plain": [
       "<IPython.core.display.HTML object>"
      ]
     },
     "execution_count": 40,
     "metadata": {},
     "output_type": "execute_result"
    }
   ],
   "source": [
    "from IPython.display import HTML\n",
    "HTML('''<script>\n",
    "code_show=true; \n",
    "function code_toggle() {\n",
    " if (code_show){\n",
    " $('div.input').hide();\n",
    " } else {\n",
    " $('div.input').show();\n",
    " }\n",
    " code_show = !code_show\n",
    "} \n",
    "$( document ).ready(code_toggle);\n",
    "</script>\n",
    "Code is hidden\n",
    "to view code, click <a href=\"javascript:code_toggle()\">here</a>.''')"
   ]
  },
  {
   "cell_type": "code",
   "execution_count": 32,
   "metadata": {},
   "outputs": [
    {
     "name": "stdout",
     "output_type": "stream",
     "text": [
      "[nltk_data] Downloading package tagsets to /home/daniel/nltk_data...\n",
      "[nltk_data]   Package tagsets is already up-to-date!\n",
      "[nltk_data] Downloading package punkt to /home/daniel/nltk_data...\n",
      "[nltk_data]   Package punkt is already up-to-date!\n",
      "[nltk_data] Error loading home: Package 'home' not found in index\n",
      "[nltk_data] Downloading package wordnet to /home/daniel/nltk_data...\n",
      "[nltk_data]   Package wordnet is already up-to-date!\n",
      "[nltk_data] Downloading package averaged_perceptron_tagger to\n",
      "[nltk_data]     /home/daniel/nltk_data...\n",
      "[nltk_data]   Package averaged_perceptron_tagger is already up-to-\n",
      "[nltk_data]       date!\n"
     ]
    },
    {
     "data": {
      "text/plain": [
       "True"
      ]
     },
     "execution_count": 32,
     "metadata": {},
     "output_type": "execute_result"
    }
   ],
   "source": [
    "# packages and modules\n",
    "import nltk, re, pprint\n",
    "from nltk import word_tokenize, sent_tokenize\n",
    "nltk.download('tagsets')\n",
    "nltk.download('punkt')\n",
    "nltk.download('home')\n",
    "from nltk import CFG\n",
    "from nltk.stem import PorterStemmer\n",
    "from nltk.stem import WordNetLemmatizer\n",
    "from nltk.grammar import FeatureGrammar\n",
    "from nltk.parse import RecursiveDescentParser, FeatureEarleyChartParser, LeftCornerChartParser\n",
    "nltk.download('wordnet')\n",
    "import string\n",
    "nltk.download('averaged_perceptron_tagger')"
   ]
  },
  {
   "cell_type": "code",
   "execution_count": 27,
   "metadata": {
    "scrolled": false
   },
   "outputs": [],
   "source": [
    "\n",
    "f = open('how-the-wale-got-his-throat.txt')\n",
    "\n",
    "# reading and tokenization of words and sentences\n",
    "raw = f.read()\n",
    "tokens = word_tokenize(raw)\n",
    "sentences = sent_tokenize(raw)\n",
    "\n",
    "# pre-processing\n",
    "import string\n",
    "cleaned_sent = []\n",
    "for sent in sentences:\n",
    "    sent = sent.lower()\n",
    "    sent = sent.replace(\"‘\",\"'\")\n",
    "    sent = sent.replace(\"’\",\"'\")\n",
    "    sent = sent.translate(sent.maketrans('', '', string.punctuation)) \n",
    "    cleaned_sent.append(sent.strip())\n",
    "\n",
    "# make list of pre-processed tokenized sentences\n",
    "tokenized = []\n",
    "for sentence in cleaned_sent:\n",
    "    tokens = word_tokenize(sentence)\n",
    "    tokenized.append(tokens)\n",
    "\n"
   ]
  },
  {
   "cell_type": "code",
   "execution_count": null,
   "metadata": {},
   "outputs": [],
   "source": []
  },
  {
   "cell_type": "code",
   "execution_count": 33,
   "metadata": {},
   "outputs": [],
   "source": [
    "# word counter\n",
    "word_dict = dict()\n",
    "for sentence in tokenized:\n",
    "    for word in sentence:\n",
    "        if word in word_dict:\n",
    "            word_dict[word] += 1\n",
    "        else:\n",
    "            word_dict[word] = 1\n",
    "if \"‘\" in word_dict:\n",
    "    del word_dict[\"‘\"] \n",
    "if \"’\" in word_dict:\n",
    "    del word_dict[\"’\"]\n",
    "\n"
   ]
  },
  {
   "cell_type": "markdown",
   "metadata": {},
   "source": []
  },
  {
   "cell_type": "code",
   "execution_count": 34,
   "metadata": {},
   "outputs": [
    {
     "name": "stdout",
     "output_type": "stream",
     "text": [
      "1034 words in text\n"
     ]
    }
   ],
   "source": [
    "lengte_tekst = 0\n",
    "for key in word_dict:\n",
    "    lengte_tekst += word_dict[key]\n",
    "\n",
    "print(f'{lengte_tekst} words in text')"
   ]
  },
  {
   "cell_type": "markdown",
   "metadata": {},
   "source": [
    "Aantal zinnen in tekst"
   ]
  },
  {
   "cell_type": "code",
   "execution_count": 35,
   "metadata": {},
   "outputs": [
    {
     "name": "stdout",
     "output_type": "stream",
     "text": [
      "42 sentences in text\n"
     ]
    }
   ],
   "source": [
    "aantal_zinnen = len(tokenized)\n",
    "print(f'{aantal_zinnen} sentences in text')"
   ]
  },
  {
   "cell_type": "code",
   "execution_count": 6,
   "metadata": {},
   "outputs": [],
   "source": [
    "zin_count = 1 \n",
    "for sentence in tokenized:\n",
    "    #print(f'zin {zin_count}: {len(sentence)}')\n",
    "    zin_count += 1\n",
    "\n",
    "zin_count = 1 \n",
    "for sentence in tokenized:\n",
    "    #print(f'zin {zin_count}: {sentence}')\n",
    "    zin_count += 1"
   ]
  },
  {
   "cell_type": "markdown",
   "metadata": {},
   "source": [
    "hapaxes:"
   ]
  },
  {
   "cell_type": "code",
   "execution_count": 7,
   "metadata": {},
   "outputs": [
    {
     "name": "stdout",
     "output_type": "stream",
     "text": [
      "220 hapaxes in corpus\n"
     ]
    }
   ],
   "source": [
    "hapaxes = 0\n",
    "for key in word_dict:\n",
    "    if word_dict[key] == 1:\n",
    "        hapaxes += 1\n",
    "\n",
    "print(f'{hapaxes} hapaxes in corpus')\n",
    "\n"
   ]
  },
  {
   "cell_type": "code",
   "execution_count": 36,
   "metadata": {},
   "outputs": [
    {
     "name": "stdout",
     "output_type": "stream",
     "text": [
      "text has average of 24 words per sentence\n"
     ]
    }
   ],
   "source": [
    "lengte_zinnen = lengte_tekst/aantal_zinnen \n",
    "print(f'text has average of {int(lengte_zinnen)} words per sentence')"
   ]
  },
  {
   "cell_type": "code",
   "execution_count": 9,
   "metadata": {},
   "outputs": [
    {
     "name": "stdout",
     "output_type": "stream",
     "text": [
      "corpus heeft 353 verschillende woorden\n"
     ]
    }
   ],
   "source": [
    "woorden_aantal = 0\n",
    "for key in word_dict:\n",
    "    woorden_aantal += 1\n",
    "print(f'corpus has {woorden_aantal} different words')"
   ]
  },
  {
   "cell_type": "code",
   "execution_count": 37,
   "metadata": {},
   "outputs": [],
   "source": [
    "#{k: v for k, v in sorted(word_dict.items(), key=lambda item: item[1], reverse=True)}\n"
   ]
  },
  {
   "cell_type": "markdown",
   "metadata": {},
   "source": [
    "de woorden 'and', 'the', 'he', 'a' en 'his' zijn de meest voorkomende woorden."
   ]
  },
  {
   "cell_type": "code",
   "execution_count": 11,
   "metadata": {},
   "outputs": [],
   "source": [
    "tagged = []\n",
    "for sentence in tokenized:\n",
    "    tagged.append(nltk.pos_tag(sentence))\n",
    "    \n",
    "    zincount = 1\n",
    "for sentence in tagged:\n",
    "        zincount += 1"
   ]
  },
  {
   "cell_type": "code",
   "execution_count": null,
   "metadata": {},
   "outputs": [],
   "source": []
  },
  {
   "cell_type": "markdown",
   "metadata": {},
   "source": [
    "word type checker: https://wordtype.org/"
   ]
  },
  {
   "cell_type": "markdown",
   "metadata": {},
   "source": [
    "GRAMMAR:"
   ]
  },
  {
   "cell_type": "code",
   "execution_count": null,
   "metadata": {},
   "outputs": [],
   "source": [
    "\n"
   ]
  },
  {
   "cell_type": "code",
   "execution_count": 38,
   "metadata": {},
   "outputs": [],
   "source": [
    "def check_sentence(parser, sentence):\n",
    "    \"\"\"Check if sentence of txt matches with gramamr rules\"\"\"\n",
    "    print(\"--------------------------------------------------\")\n",
    "    print(f'zin {zin_count}: {sentence}')\n",
    "    if isinstance(sentence, str):\n",
    "        sentence = sentence.split()\n",
    "    tree_found = False\n",
    "    results = parser.parse(sentence)\n",
    "    i = 0\n",
    "    for tree in results:\n",
    "        if(i == 0):\n",
    "            #print(tree.pretty_print())  # uncomment als je de parse tree wil hebben\n",
    "            i += 1\n",
    "        tree_found = True\n",
    "    if not tree_found:\n",
    "        print(\"no match\")\n",
    "    print(\"--------------------------------------------------\")\n",
    "    if tree_found:\n",
    "        print(\"match\")\n",
    "    return True\n",
    "\n",
    "grammar1 = nltk.data.load('file:mygrammar.cfg')\n",
    "\n",
    "\n",
    "\n",
    "\n",
    "#grammar2 = nltk.data.load('file:mygrammar2.cfg')\n",
    "cfg_1_parser = nltk.LeftCornerChartParser(grammar1)\n",
    "\n",
    "zin_count = 1\n",
    "\n",
    "#for sentence in tokenized:\n",
    "#    joined = ' '.join(sentence)\n",
    "#    check_sentence(cfg_1_parser, joined)\n",
    "#    zin_count += 1\n",
    "\n"
   ]
  },
  {
   "cell_type": "code",
   "execution_count": null,
   "metadata": {},
   "outputs": [],
   "source": []
  },
  {
   "cell_type": "code",
   "execution_count": 29,
   "metadata": {},
   "outputs": [],
   "source": [
    "zincount = 1\n",
    "for sentence in tokenized:\n",
    "    #print(f'zin {zincount} \\n')\n",
    "    #print(' '.join(sentence), \"\\n\") \n",
    "    zincount += 1"
   ]
  },
  {
   "cell_type": "code",
   "execution_count": 17,
   "metadata": {},
   "outputs": [],
   "source": [
    "import nltk.parse.generate\n",
    "from nltk.parse.generate import generate\n",
    "from nltk import CFG, Nonterminal\n",
    "from random import choice\n",
    "cfg_1_parser = nltk.LeftCornerChartParser(grammar1)"
   ]
  },
  {
   "cell_type": "code",
   "execution_count": 39,
   "metadata": {},
   "outputs": [],
   "source": [
    "def generate_sample(grammar, prod, frags):  \n",
    "    \"\"\"Generates random sentences based on CFG\"\"\"\n",
    "    if prod in grammar._lhs_index: # vind derivations\n",
    "        derivations = grammar._lhs_index[prod] # vind alle mogelijke derivaitons        \n",
    "        derivation = choice(derivations) # kies random expansie met choice          \n",
    "        for d in derivation._rhs: # recursie          \n",
    "            generate_sample(grammar, d, frags)\n",
    "    elif prod in grammar._rhs_index:\n",
    "        frags.append(str(prod)) # append terminals "
   ]
  },
  {
   "cell_type": "code",
   "execution_count": 31,
   "metadata": {
    "scrolled": false
   },
   "outputs": [
    {
     "name": "stdout",
     "output_type": "stream",
     "text": [
      "Generated random sentences:\n",
      "1: SBAR and a anything girls had out of the small dark and swallowed SBAR. \n",
      "2: of all the swam indeed a unhappy hungry mariner then nubbly white whirly cupboards swim if the skate home man. \n",
      "3: to he have the not back and SBAR resource so soon but wop once been as. \n",
      "4: SBAR and that not wop square forty hibernian ating there dragged of and SBAR. \n",
      "5: to a nubbly so stute forty tail ever swallowed the fish have or nay forgotten last and unhappy and SBAR. \n",
      "6: not a afraid eel suspenders crawled the beloved SBAR to let up stumped of SBAR. \n",
      "7: swam said small nearly nubbly jackknife and to his sitting breeches all an whale warned suspenders. \n",
      "8: to my sitting single with the sills on north small beach small is the to particularly three north raft and wearing best one small fish SBAR and the time girls to you SBAR and the latitude to he the might have leave. \n",
      "9: all the cupboards the breeches a infinite on into had the to the suspenders on the jack and so the small canvas beloved went a last eel and SBAR. \n",
      "10: as a north winchester hiccough grating the north infinite man solitary but infinite cupboards and a whale cross middle. \n",
      "11: right and ever is stepped the infinite last throat really here north little and SBAR suspenders to all the dace sitting boys else the small blue longitude toes whale only tells to the mummys nay bumped a mate whale SBAR of. \n",
      "12: not the sagacity albion cut last criss and tight dace anything is nursey and hopped SBAR. \n",
      "13: in tight on white know rushed if and his ating nubbly and enough the suspenders is from hid about a small whale SBAR was with and went really the heap to the green smacked on the i west throat hungry. \n",
      "14: door have the stute till hiccough mariner hid the last small port the fish west not breeches. \n",
      "15: to twirly and whirly and SBAR leave to little to the noble a will forget have and also making all the person SBAR and because recited one natalshore swim and then you said sea to toes dace of. \n",
      "16: to the fish whale behind said with SBAR nay so he was nubbly the afraid canvas small. \n",
      "17: ever the white stute fishes swallowed for his grating of a small also see. \n",
      "18: a stations so all the hiccoughs is warm square but criss pickereel of three to the wide unhappy stute single trunks and angry as nearly mariner the fish jackknife right and enough cliffs falls as called flippers. \n",
      "19: so warm nubbly nubbly noble blue port to all the sagacity leaped SBAR. \n",
      "20: as a little souptureen dab so and then forget to the keene lips—so and indeed small solitary and SBAR fish dropped a besides to the mariner with a stute. \n",
      "21: to all the cetacean the then not good green canvas what might forget do. \n",
      "22: in a port stute his eating fish whale called truly forty wide so stute. \n",
      "23: all a pair then the west said his swam SBAR should i far a last mate canvas see hungry and white. \n",
      "24: canvas to an infinite infinite tail small whales had small and small am to so only fish last and SBAR leave on all the throat and is left than his ating pickereel i the mouth seas the is the blue single longitude nubbly ever whales in then enough and not very. \n",
      "25: all the fitch to washed nay washed really or not some the fish nay little only mummys leave really bit man eating the raft come SBAR and a cabin have leave cried fair SBAR. \n",
      "26: behind just the whale married my middle in his best fishes SBAR and as he mouth is rushed not and indeed the generous swam whale went right and so the cupboards and afterward all a grating till that shingle sills of and of the nubbly not small blue middle breeches not said times fish of and grating fishes water SBAR and breeches heap warm heard with. \n",
      "27: on the little sea tale have whale breeches the blue blue canvas blue whales and to the small plaice men or a equator fish middle his most times is just really blue north but SBAR and a have all the dace what should tell begin then or not said truly and ever swam and there is cut that good reason infinite to all the tail. \n",
      "28: shingle said swallowed his most cupboards small that his most fishes with the blue whale whales fifty. \n",
      "29: outside cliffs throat water be down tied there or now and here have he. \n",
      "30: of on was never and nowadays blue see and one and to the north steward sagacity this inside paddle SBAR and his best toes else to that infinite eel longitude. \n",
      "31: now all a whale making the warm nice cliffs and now not twirly blue have. \n",
      "32: wide nashua shingle to his most suspenders to have back not north solitary and SBAR bit was indeed three white mother. \n",
      "33: all a eel as warm SBAR and my ating could latitude and SBAR and the small waked and will swim and hornpipe have SBAR and his dab got to so three little mariner and SBAR not halfway only but very and nowadays seas is ever then have. \n",
      "34: back a shipwrecked water small on cut bit three shipwrecked sea SBAR and the criss mate suspenders said between there and suspenders middle. \n",
      "35: to the last tail sea not have ear afterward never then and very. \n",
      "36: to a whales arent froth ever or bit no last natalshore and small only not small hiccough sailor. \n",
      "37: nearly find down hit the raft cliffs find to the fifty resource suspenders and the canvas whale dace crawled SBAR is was of. \n",
      "38: SBAR or a mouth have to the mariner whale it never and very the solitary shipwrecked and have there then one infinite nothing have there not the shipwrecked saw to the wide and solitary jackknife and to the swam fish tail a to his sitting SBAR and his whale stumped his best suspenders of to your mackereel. \n",
      "39: on little lived cough white and little and SBAR warm to the canvas cupboards. \n",
      "40: that suspenders who should i have so and only the door am then then. \n",
      "41: happily and only is is the hiccough and to was out with and warned at the. \n",
      "42: that so and very swim little and infinite and SBAR and SBAR and SBAR and the small tail fishes ear that stute longitude. \n",
      "43: to a small single west very so magic magic means ating the mariner whale. \n",
      "44: into a to so one little shingle now also but so now and natalshore to the shipwrecked west wide into sea leaped up to all the girls and who will relate know. \n",
      "45: the swam heap then danced his most sills back and back have one. \n",
      "46: of blue swam was the good plaice i are nearly not but back not and stute running blue stute knife SBAR or SBAR SBAR. \n",
      "47: nowadays north take round come there to the infinite blue burg little toes magic. \n",
      "48: the own forty raft into the breeches dropped back but also my trailing also and also he know the afraid whale fifty magic. \n",
      "49: as small the wide sea flippers for all the plaice relate unhappy magic natalshore the angry blue raft fifty cliffs little slide that. \n",
      "50: of his sitting whirly then only canvas for a suspenders to all a fishes bit only and truly indeed and best and dark eating a beach jackknife SBAR and SBAR and a small green voice magic suspenders forget tells back nay ever square was he to the mariner sloka fish breeches it to all a suspenders mariner began is warned his best suspenders. \n",
      "51: to the nashua ashuelot tail about his grating cabin behave inside and ever is bawled fast and so warm and small begin and of that fifty garfish beloved the white mariner suspenders up the little sea time because the grating inside whale forty or from his stute best and truly a longitude swam mate ating his raft SBAR and wop very so and then. \n",
      "52: also that infinite mouth whales goes blue north ship back and very the small and unhappy canvas i about the green anything stute and prowled up if the forty fetch and SBAR to is solitary. \n",
      "53: as one all a canvas would find but far then and as natalshore and so. \n",
      "54: SBAR and the cabin suspenders but a north but enough so forgotten leaped except SBAR. \n",
      "55: not the eel forget and all the grating said the wide jackknife lies and ever soon now and back. \n",
      "56: to that mackereel suspenders as suspenders not three infinite mariner of very grating his best men SBAR and SBAR and fifty nubbly bit infinite infinite mother fitch out know the west ought have but to ating his most mariners and there halfway saw little so three angry whale not creeped the lips—so cough inside small. \n",
      "57: one also and really swim angry and then three white fish and SBAR breeches said and tasted tied while single and north and SBAR are. \n",
      "58: in the the back so and SBAR whale small inside his sitting of the man seas is now back hiccough square and sloka tied to the beach and you indeed not also and soon if the shipwrecked the men here beloved blue with the blue solitary equator nice suspenders the whales swallowed to whales fish what goes his most cliffs on. \n",
      "59: one that the stute behave is not not white nice soon and truly his most cliffs was lies to the noble jack cliffs to all the resource and i. \n",
      "60: natalshore and best to latitude square arent blue then and SBAR like or cried with SBAR. \n",
      "61: never and far a dark i were the floor inside sagacity in to the girls. \n",
      "62: on to three could till and up all the mariner were very and right the last and criss time and SBAR. \n",
      "63: to the person pair said some sagacity SBAR lived as and indeed have down is the small tail fishes. \n",
      "64: inside the white shingle suspenders running he and i pickereel was on the stute grating SBAR. \n",
      "65: for the his trailing into flippers dace about to see truly very warm blue and SBAR that in tail blue bit one wide pair little ever he have the so nubbly blue tight tale and on not truly leave that forty beloved so very and not as and here eating a whale nice pair SBAR. \n",
      "66: of he stuck and howled so all a ship is falls so cried the fish. \n",
      "67: with the fifty equator mariners indeed hiccough square and infinite mouth said the fifty and tight tail. \n",
      "68: of SBAR and the stute souptureen wiggle shipwrecked of nay then swallowed there. \n",
      "69: as is then then and nubbly he to the mariner whales falls an and to her not indeed then and indeed and of married is shipwrecked so a grating whales and SBAR and in to been that his whale. \n",
      "70: otherwise and nubbly wide know was begin ate not no fifty and so one whirly jack thumped down to his most hiccoughs green and SBAR. \n",
      "71: that never and nubbly must come fast his best suspenders wearing sills grating. \n",
      "72: of now back but so as and indeed or as and ever swallowed a nearly very burg of all the suspenders of all that whales. \n",
      "73: with he that nursey stute small walked fish SBAR and nothing begin one and bit ever and ever only. \n",
      "74: the jack latitude have stepped had are breeches the forty tail blue then and the stuck with or the small mariner hiccough. \n",
      "75: up the the magic whale good then and right afraid is halfway very. \n",
      "76: as he of there truly the middle toes have SBAR and the pair sailor fetch out opened SBAR is warned the. \n",
      "77: upon the inside grating mariner upon last neither so infinite little swam him with the infinite cabin suspenders had my steward SBAR and SBAR the mouth let nay i in SBAR and the north way suspenders leave his sitting or as i up else round heard the wide and little mariner and SBAR and SBAR and three leaped and ating breeches. \n",
      "78: to means one to was the the mother mariner never nothing to all a whale to the breeches to you and in begin right and as blue nashua and generous mouth eating the SBAR. \n",
      "79: of the whale resource resource a knife mother is very beloved no hungry shipwrecked resource very as whales. \n",
      "80: to his best beloved had there and truly nubbly and wop nubbly and very. \n",
      "81: warm not really and back so and there ever and fast know all the dab otherwise took the fishes SBAR and the fish fish take up thumped the last stute infinite outside the jackknife whales to one. \n",
      "82: hiccoughs and the hornpipe home whale whirly is then stumped the whirly canvas girls and there. \n",
      "83: to the little a infinite or white hibernian SBAR and the unhappy small i suspenders fitch fast breeches was back or not the small. \n",
      "84: of an mariner forget running one lived in warm last and nashua and SBAR and a dace one whale under there sitting tail SBAR whale come all a times. \n",
      "85: you as enough and only the fifty infinite sea not truly infinite infinite men would think and with the wide hiccough mariner criss and small mariners his grating is small just so solitary noble and SBAR mouth and done on best very small wide warm and nubbly the angry stute north ate the tight nay way SBAR the hibernian inside knife nursey then stepped you who could have am. \n",
      "86: with the the home mouth sagacity back stute now hopped a small small sagacity small flippers. \n",
      "87: in not so see just one swallowed SBAR and hiccough hungry raft said had is in his best hiccoughs come cupboards under the natalshore wop twirly north person with the little change holes to green not only road will tie married little making a mouthso and cupboards and SBAR. \n",
      "dark said SBAR\n"
     ]
    }
   ],
   "source": [
    "zincount = 1\n",
    "generated = []\n",
    "print(\"Generated random sentences:\")\n",
    "for i in range(200):\n",
    "    frags = []  \n",
    "    generate_sample(grammar1, grammar1.start(), frags)\n",
    "    if 12 < len(frags) < 80:\n",
    "        sentence = ' '.join(frags)\n",
    "        print(f'{zincount}: {sentence}. ')\n",
    "\n",
    "        generated.append(sentence)\n",
    "        zincount += 1\n",
    "\n",
    "print( ' '.join(frags) )"
   ]
  },
  {
   "cell_type": "code",
   "execution_count": null,
   "metadata": {},
   "outputs": [],
   "source": []
  },
  {
   "cell_type": "code",
   "execution_count": null,
   "metadata": {},
   "outputs": [],
   "source": [
    "\n",
    "    "
   ]
  },
  {
   "cell_type": "code",
   "execution_count": null,
   "metadata": {},
   "outputs": [],
   "source": []
  },
  {
   "cell_type": "code",
   "execution_count": null,
   "metadata": {},
   "outputs": [],
   "source": []
  }
 ],
 "metadata": {
  "kernelspec": {
   "display_name": "Python 3",
   "language": "python",
   "name": "python3"
  },
  "language_info": {
   "codemirror_mode": {
    "name": "ipython",
    "version": 3
   },
   "file_extension": ".py",
   "mimetype": "text/x-python",
   "name": "python",
   "nbconvert_exporter": "python",
   "pygments_lexer": "ipython3",
   "version": "3.6.9"
  }
 },
 "nbformat": 4,
 "nbformat_minor": 4
}
